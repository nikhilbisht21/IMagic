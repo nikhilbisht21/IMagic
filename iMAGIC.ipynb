{
 "cells": [
  {
   "cell_type": "code",
   "execution_count": 1,
   "metadata": {
    "colab": {
     "autoexec": {
      "startup": false,
      "wait_interval": 0
     }
    },
    "colab_type": "code",
    "id": "hsk5D6G0v1JW",
    "scrolled": false
   },
   "outputs": [
    {
     "name": "stderr",
     "output_type": "stream",
     "text": [
      "/glob/intel-python/versions/2018u2/intelpython3/lib/python3.6/site-packages/h5py/__init__.py:34: FutureWarning: Conversion of the second argument of issubdtype from `float` to `np.floating` is deprecated. In future, it will be treated as `np.float64 == np.dtype(float).type`.\n",
      "  from ._conv import register_converters as _register_converters\n"
     ]
    }
   ],
   "source": [
    "import cv2\n",
    "import numpy as np\n",
    "from matplotlib import pyplot as plt\n",
    "import tensorflow as tf\n",
    "import os\n",
    "import h5py"
   ]
  },
  {
   "cell_type": "code",
   "execution_count": 76,
   "metadata": {},
   "outputs": [],
   "source": [
    "dir='datac/dataa/train/'\n",
    "image=np.array(cv2.imread(dir+os.listdir(dir)[700]))\n",
    "image=cv2.cvtColor(image,cv2.COLOR_BGR2RGB)\n",
    "im=cv2.resize(image,(64,64))\n",
    "X_train=cv2.cvtColor(im,cv2.COLOR_RGB2GRAY).reshape(1,-1)\n",
    "X_train=X_train.T\n",
    "X_train.shape"
   ]
  },
  {
   "cell_type": "code",
   "execution_count": 4,
   "metadata": {
    "scrolled": false
   },
   "outputs": [],
   "source": [
    "#Loading and flattening the dataset\n",
    "\n",
    "mn=721\n",
    "Y=np.zeros((36237,12288))\n",
    "X=np.zeros((36237,4096))\n",
    "k=0\n",
    "\n",
    "dir='datac/dataa/train/'\n",
    "for filename in os.listdir(dir):\n",
    "    #file='res/image1/image{0}.jpg'.format(var+1)\n",
    "    img=cv2.imread(dir+filename)\n",
    "    img=cv2.resize(img,(64,64))\n",
    "    im=cv2.cvtColor(img,cv2.COLOR_RGB2GRAY).reshape(1,-1)\n",
    "    X[k]=im.reshape(1,-1)\n",
    "    Y[k]=img.reshape(1,64*64*3)\n",
    "    #print(k+1,filename)\n",
    "    k=k+1\n",
    "    if k==721:\n",
    "        break"
   ]
  },
  {
   "cell_type": "code",
   "execution_count": 5,
   "metadata": {},
   "outputs": [
    {
     "name": "stdout",
     "output_type": "stream",
     "text": [
      "X_train if of size (4096, 648)\n",
      "Y_train if of size (12288, 648)\n",
      "X_test if of size (4096, 73)\n",
      "Y_test if of size (12288, 73)\n",
      "Total examples : 721\n"
     ]
    }
   ],
   "source": [
    "#Dividing the dataset into Training and Test set\n",
    "\n",
    "nm=721\n",
    "m=int(np.floor(90*nm/100))\n",
    "\n",
    "X_train=X[0:m,:].T\n",
    "Y_train=Y[0:m,:].T\n",
    "X_test=X[m:nm,:].T\n",
    "Y_test=Y[m:nm,:].T\n",
    "print('X_train if of size {}'.format(X_train.shape))\n",
    "print('Y_train if of size {}'.format(Y_train.shape))\n",
    "print('X_test if of size {}'.format(X_test.shape))\n",
    "print('Y_test if of size {}'.format(Y_test.shape))\n",
    "print('Total examples : {}'.format(Y_test.shape[1]+Y_train.shape[1]))\n"
   ]
  },
  {
   "cell_type": "markdown",
   "metadata": {},
   "source": [
    "\n",
    "output=pred.T\n",
    "\n",
    "a=100\n",
    "for var in range(5):\n",
    "    image=output[var+a].reshape(64,64,3)\n",
    "    image=np.uint8(image)\n",
    "    image=cv2.resize(image,(256,256))\n",
    "    plt.figure(var+1)\n",
    "    plt.imshow(image)\n",
    "\n",
    "plt.show()"
   ]
  },
  {
   "cell_type": "code",
   "execution_count": 37,
   "metadata": {},
   "outputs": [],
   "source": [
    "#Creating placeholder to pass training data\n",
    "\n",
    "def create_placeholder(n_x):\n",
    "    X=tf.placeholder(dtype=tf.float32,shape=[n_x,None],name='X')\n",
    "    \n",
    "    return X\n"
   ]
  },
  {
   "cell_type": "code",
   "execution_count": 38,
   "metadata": {},
   "outputs": [],
   "source": [
    "def fetch_parameters(param):\n",
    "    \n",
    "    W1=tf.Variable(param['W1'],[12288,4096],dtype=tf.float32)\n",
    "    b1=tf.Variable(param['b1'],[12288,1],dtype=tf.float32)\n",
    "    W2=tf.Variable(param['W2'],[12288,12288],dtype=tf.float32)\n",
    "    b2=tf.Variable(param['b2'],[12288,1],dtype=tf.float32)\n",
    "    \n",
    "    #print(type(param['W1']))\n",
    "    #W1=param['W1'],\n",
    "    #b1=param['b1'],\n",
    "    #W2=param['W2'],\n",
    "    #b2=param['b2']\n",
    "    \n",
    "    parameters={\n",
    "        \"W1\":W1,\n",
    "        \"b1\":b1,\n",
    "        \"W2\":W2,\n",
    "        \"b2\":b2\n",
    "    }\n",
    "    \n",
    "    return parameters\n"
   ]
  },
  {
   "cell_type": "code",
   "execution_count": 39,
   "metadata": {},
   "outputs": [],
   "source": [
    "#Forward propagation\n",
    "\n",
    "def forward(X,parameters):\n",
    "    \n",
    "    W1=parameters['W1']\n",
    "    b1=parameters['b1']\n",
    "    W2=parameters['W2']\n",
    "    b2=parameters['b2']\n",
    "   \n",
    "    A1=tf.add(tf.matmul(W1,X),b1)\n",
    "    A2=tf.add(tf.matmul(W2,A1),b2)\n",
    "    \n",
    "    return A2\n"
   ]
  },
  {
   "cell_type": "code",
   "execution_count": 55,
   "metadata": {},
   "outputs": [],
   "source": [
    "def predict_b(X_train,parameters=None):\n",
    "    \n",
    "    W1=parameters['W1']\n",
    "    b1=parameters['b1']\n",
    "    W2=parameters['W2']\n",
    "    b2=parameters['b2']\n",
    "    \n",
    "    X=np.float32(X_train)\n",
    "    \n",
    "    A1=np.add(np.matmul(W1,X),b1)\n",
    "    A2=np.add(np.matmul(W2,A1),b2)\n",
    "    \n",
    "    return A2\n",
    "    "
   ]
  },
  {
   "cell_type": "code",
   "execution_count": 40,
   "metadata": {},
   "outputs": [],
   "source": [
    "def predict(X_train,param=None):\n",
    "    \n",
    "    tf.reset_default_graph()\n",
    "    (n_x,_)=X_train.shape\n",
    "    \n",
    "    #create palceholders \n",
    "    X=create_placeholder(n_x)\n",
    "    \n",
    "    para=fetch_parameters(param)\n",
    "    \n",
    "    A2=forward(X,para)\n",
    "    \n",
    "    #Initialize all variables\n",
    "    init=tf.global_variables_initializer()\n",
    "    \n",
    "    #Start session\n",
    "    with tf.Session() as session:\n",
    "        session.run(init)\n",
    "        result=session.run(A2,feed_dict={X:X_train})\n",
    "        \n",
    "    return result"
   ]
  },
  {
   "cell_type": "code",
   "execution_count": 36,
   "metadata": {
    "colab": {
     "autoexec": {
      "startup": false,
      "wait_interval": 0
     }
    },
    "colab_type": "code",
    "id": "e-TJ_xG0x3nq"
   },
   "outputs": [],
   "source": [
    "param={}\n",
    "filename = 'params1.hdf5'\n",
    "f = h5py.File(filename, 'r')\n",
    "param['W1']=f['w1'][()]\n",
    "param['b1']=f['b1'][()]\n",
    "param['W2']=f['w2'][()]\n",
    "param['b2']=f['b2'][()]\n",
    "cost=f['cost'][()]\n",
    "f.close()"
   ]
  },
  {
   "cell_type": "code",
   "execution_count": 71,
   "metadata": {},
   "outputs": [],
   "source": [
    "pred=predict_b(X_train=X_train,parameters=param)"
   ]
  },
  {
   "cell_type": "markdown",
   "metadata": {},
   "source": [
    "pr=(pred.T).reshape(64,64,3)\n",
    "pr=cv2.resize(pr,(256,256))\n",
    "pr=np.uint8(pr)\n",
    "plt.imshow(pr)\n",
    "plt.show()"
   ]
  },
  {
   "cell_type": "code",
   "execution_count": 11,
   "metadata": {},
   "outputs": [
    {
     "data": {
      "image/png": "[encoded data removed]",
      "text/plain": [
       "<matplotlib.figure.Figure at 0x151affe899e8>"
      ]
     },
     "metadata": {},
     "output_type": "display_data"
    }
   ],
   "source": [
    "cost=list(cost)\n",
    "cost.remove(404)\n",
    "plt.plot(cost)\n",
    "plt.show()"
   ]
  }
 ],
 "metadata": {
  "accelerator": "GPU",
  "colab": {
   "collapsed_sections": [],
   "default_view": {},
   "name": "iMAGIC.ipynb",
   "provenance": [],
   "version": "0.3.2",
   "views": {}
  },
  "kernelspec": {
   "display_name": "Python 3 (Intel, 2018 update 2)",
   "language": "python",
   "name": "intel_distribution_of_python_3_2018u2"
  },
  "language_info": {
   "codemirror_mode": {
    "name": "ipython",
    "version": 3
   },
   "file_extension": ".py",
   "mimetype": "text/x-python",
   "name": "python",
   "nbconvert_exporter": "python",
   "pygments_lexer": "ipython3",
   "version": "3.6.3"
  }
 },
 "nbformat": 4,
 "nbformat_minor": 1
}
