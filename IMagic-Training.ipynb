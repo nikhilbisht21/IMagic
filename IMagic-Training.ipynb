{
 "cells": [
  {
   "cell_type": "markdown",
   "metadata": {},
   "source": [
    "# IMagic\n",
    "\n",
    "This script is used to color the black and white image using the pre-trained parameters"
   ]
  },
  {
   "cell_type": "markdown",
   "metadata": {},
   "source": [
    "### Importing required libraries"
   ]
  },
  {
   "cell_type": "code",
   "execution_count": 1,
   "metadata": {
    "colab": {
     "autoexec": {
      "startup": false,
      "wait_interval": 0
     }
    },
    "colab_type": "code",
    "id": "hsk5D6G0v1JW",
    "scrolled": false
   },
   "outputs": [
    {
     "name": "stderr",
     "output_type": "stream",
     "text": [
      "/glob/intel-python/versions/2018u2/intelpython3/lib/python3.6/site-packages/h5py/__init__.py:34: FutureWarning: Conversion of the second argument of issubdtype from `float` to `np.floating` is deprecated. In future, it will be treated as `np.float64 == np.dtype(float).type`.\n",
      "  from ._conv import register_converters as _register_converters\n"
     ]
    }
   ],
   "source": [
    "import cv2\n",
    "import numpy as np\n",
    "from matplotlib import pyplot as plt\n",
    "import tensorflow as tf\n",
    "import os\n",
    "import h5py"
   ]
  },
  {
   "cell_type": "markdown",
   "metadata": {},
   "source": [
    "### Loading, resizing and reshaping the image \n",
    "\n",
    "Here the image which is to be colored is loaded from the directory using open-cv library and then resized in 64x64 pixels image, further it is cob=nverted into a single vector to for feeding it into the neural network."
   ]
  },
  {
   "cell_type": "code",
   "execution_count": 76,
   "metadata": {},
   "outputs": [],
   "source": [
    "dir='datac/dataa/train/'\n",
    "image=np.array(cv2.imread(dir+os.listdir(dir)[700]))\n",
    "image=cv2.cvtColor(image,cv2.COLOR_BGR2RGB)\n",
    "im=cv2.resize(image,(64,64))\n",
    "X_train=cv2.cvtColor(im,cv2.COLOR_RGB2GRAY).reshape(1,-1)\n",
    "X_train=X_train.T\n",
    "X_train.shape"
   ]
  },
  {
   "cell_type": "markdown",
   "metadata": {},
   "source": [
    "### Creating placeholder to pass training data"
   ]
  },
  {
   "cell_type": "code",
   "execution_count": 37,
   "metadata": {},
   "outputs": [],
   "source": [
    "def create_placeholder(n_x):\n",
    "    X=tf.placeholder(dtype=tf.float32,shape=[n_x,None],name='X')\n",
    "    \n",
    "    return X\n"
   ]
  },
  {
   "cell_type": "markdown",
   "metadata": {},
   "source": [
    "### Fetching the pre-trained parameters"
   ]
  },
  {
   "cell_type": "code",
   "execution_count": 38,
   "metadata": {},
   "outputs": [],
   "source": [
    "def fetch_parameters(param):\n",
    "    \n",
    "    #print(type(param['W1']))\n",
    "    W1=param['W1'],\n",
    "    b1=param['b1'],\n",
    "    W2=param['W2'],\n",
    "    b2=param['b2']\n",
    "    \n",
    "    parameters={\n",
    "        \"W1\":W1,\n",
    "        \"b1\":b1,\n",
    "        \"W2\":W2,\n",
    "        \"b2\":b2\n",
    "    }\n",
    "    \n",
    "    return parameters\n"
   ]
  },
  {
   "cell_type": "markdown",
   "metadata": {},
   "source": [
    "### Forward propagation"
   ]
  },
  {
   "cell_type": "code",
   "execution_count": 39,
   "metadata": {},
   "outputs": [],
   "source": [
    "def forward(X,parameters):\n",
    "    \n",
    "    W1=parameters['W1']\n",
    "    b1=parameters['b1']\n",
    "    W2=parameters['W2']\n",
    "    b2=parameters['b2']\n",
    "   \n",
    "    A1=tf.add(tf.matmul(W1,X),b1)\n",
    "    A2=tf.add(tf.matmul(W2,A1),b2)\n",
    "    \n",
    "    return A2\n"
   ]
  },
  {
   "cell_type": "markdown",
   "metadata": {},
   "source": [
    "### Predicting the results"
   ]
  },
  {
   "cell_type": "code",
   "execution_count": 55,
   "metadata": {},
   "outputs": [],
   "source": [
    "#This function predicts the output sing tensorflow library\n",
    "def predict(X_train,param=None):\n",
    "    \n",
    "    tf.reset_default_graph()\n",
    "    (n_x,_)=X_train.shape\n",
    "    \n",
    "    #create palceholders \n",
    "    X=create_placeholder(n_x)\n",
    "    \n",
    "    para=fetch_parameters(param)\n",
    "    \n",
    "    A2=forward(X,para)\n",
    "    \n",
    "    #Initialize all variables\n",
    "    init=tf.global_variables_initializer()\n",
    "    \n",
    "    #Start session\n",
    "    with tf.Session() as session:\n",
    "        session.run(init)\n",
    "        result=session.run(A2,feed_dict={X:X_train})\n",
    "        \n",
    "    return result\n",
    "    \n",
    "    \n",
    "#This function predicts the output without using tensorflow library\n",
    "def predict_b(X_train,parameters=None):\n",
    "    \n",
    "    W1=parameters['W1']\n",
    "    b1=parameters['b1']\n",
    "    W2=parameters['W2']\n",
    "    b2=parameters['b2']\n",
    "    \n",
    "    X=np.float32(X_train)\n",
    "    \n",
    "    A1=np.add(np.matmul(W1,X),b1)\n",
    "    A2=np.add(np.matmul(W2,A1),b2)\n",
    "    \n",
    "    return A2\n"
   ]
  },
  {
   "cell_type": "markdown",
   "metadata": {},
   "source": [
    "### Loading the pre-trained parameters"
   ]
  },
  {
   "cell_type": "code",
   "execution_count": 36,
   "metadata": {
    "colab": {
     "autoexec": {
      "startup": false,
      "wait_interval": 0
     }
    },
    "colab_type": "code",
    "id": "e-TJ_xG0x3nq"
   },
   "outputs": [],
   "source": [
    "param={}\n",
    "filename = 'params1.hdf5'\n",
    "f = h5py.File(filename, 'r')\n",
    "param['W1']=f['w1'][()]\n",
    "param['b1']=f['b1'][()]\n",
    "param['W2']=f['w2'][()]\n",
    "param['b2']=f['b2'][()]\n",
    "cost=f['cost'][()]\n",
    "f.close()"
   ]
  },
  {
   "cell_type": "markdown",
   "metadata": {},
   "source": [
    "### Predicting the results"
   ]
  },
  {
   "cell_type": "code",
   "execution_count": 71,
   "metadata": {},
   "outputs": [],
   "source": [
    "pred=predict_b(X_train=X_train,parameters=param)"
   ]
  },
  {
   "cell_type": "markdown",
   "metadata": {},
   "source": [
    "### Printing the output images"
   ]
  },
  {
   "cell_type": "code",
   "execution_count": null,
   "metadata": {},
   "outputs": [],
   "source": [
    "output=pred.T\n",
    "\n",
    "a=0\n",
    "for var in range(1):\n",
    "    image=output[var+a].reshape(64,64,3)\n",
    "    image=np.uint8(image)\n",
    "    image=cv2.resize(image,(256,256))\n",
    "    plt.figure(var+1)\n",
    "    plt.imshow(image)\n",
    "\n",
    "plt.show()"
   ]
  }
 ],
 "metadata": {
  "accelerator": "GPU",
  "colab": {
   "collapsed_sections": [],
   "default_view": {},
   "name": "iMAGIC.ipynb",
   "provenance": [],
   "version": "0.3.2",
   "views": {}
  },
  "kernelspec": {
   "display_name": "Python 3",
   "language": "python",
   "name": "python3"
  },
  "language_info": {
   "codemirror_mode": {
    "name": "ipython",
    "version": 3
   },
   "file_extension": ".py",
   "mimetype": "text/x-python",
   "name": "python",
   "nbconvert_exporter": "python",
   "pygments_lexer": "ipython3",
   "version": "3.6.0"
  }
 },
 "nbformat": 4,
 "nbformat_minor": 1
}
